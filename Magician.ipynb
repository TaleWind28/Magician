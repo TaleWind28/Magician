{
 "cells": [
  {
   "cell_type": "markdown",
   "id": "9f8a28be",
   "metadata": {},
   "source": [
    "<center>\n",
    "\n",
    "## MAGICIAN: Mining and gAmblinG servIces sCrapIng and ANalysis\n",
    "\n",
    "Matteo Martini 636694"
   ]
  },
  {
   "cell_type": "code",
   "execution_count": 1,
   "id": "970175ce",
   "metadata": {},
   "outputs": [],
   "source": [
    "mining_pool_url = \"https://en.bitcoin.it/wiki/DeepBit9\"\n",
    "\n",
    "\n",
    "#Individuare nel DataSet tutte le transazioni relative a Deepbit.net,ovvero le transazioni che presentano almeno un indirizzo di input o di output appartenente a Deepbit_addrs.\n",
    "#servizio scommesse = DiceOnCrack"
   ]
  },
  {
   "cell_type": "markdown",
   "id": "e6d9815d",
   "metadata": {},
   "source": [
    "## Setup Ambiente"
   ]
  },
  {
   "cell_type": "code",
   "execution_count": 2,
   "id": "5ad92ae2",
   "metadata": {},
   "outputs": [
    {
     "name": "stdout",
     "output_type": "stream",
     "text": [
      "Datasets\n",
      "data_parquet\n",
      "Environment ready.\n"
     ]
    }
   ],
   "source": [
    "# Librerie concesse\n",
    "import pandas as pd\n",
    "\n",
    "# Per scraping (scegline uno o entrambi, in base alle esigenze delle pagine)\n",
    "from bs4 import BeautifulSoup\n",
    "from selenium import webdriver\n",
    "from selenium.webdriver.common.by import By\n",
    "from selenium.webdriver.chrome.options import Options\n",
    "\n",
    "# Per formati efficienti (PyArrow)\n",
    "import pyarrow as pa\n",
    "import pyarrow.parquet as pq\n",
    "\n",
    "# Utility\n",
    "from pathlib import Path\n",
    "from datetime import datetime\n",
    "\n",
    "import numpy as np\n",
    "\n",
    "\n",
    "from selenium.webdriver.support.select import Select\n",
    "from selenium.webdriver.common.keys import Keys\n",
    "import time\n",
    "import requests\n",
    "import re\n",
    "from bs4 import BeautifulSoup\n",
    "\n",
    "# Percorsi (aggiorna con il tuo percorso locale)\n",
    "DATA_DIR = Path('./Datasets')   # metti qui i CSV scaricati\n",
    "\n",
    "PARQUET_DIR = Path('./data_parquet')\n",
    "PARQUET_DIR.mkdir(parents=True, exist_ok=True)\n",
    "print(DATA_DIR)\n",
    "print(PARQUET_DIR)\n",
    "print('Environment ready.')"
   ]
  },
  {
   "cell_type": "markdown",
   "id": "53f21edc",
   "metadata": {},
   "source": [
    "## 1) Costruzione dei Dataframe dal Dataset"
   ]
  },
  {
   "cell_type": "markdown",
   "id": "37f40134",
   "metadata": {},
   "source": [
    "## Directory Datasets\n"
   ]
  },
  {
   "cell_type": "code",
   "execution_count": 3,
   "id": "b9485b45",
   "metadata": {},
   "outputs": [],
   "source": [
    "transactions_csv = DATA_DIR / 'transactions.csv'\n",
    "inputs_csv       = DATA_DIR / 'inputs.csv'\n",
    "outputs_csv      = DATA_DIR / 'outputs.csv'\n",
    "mapping_csv      = DATA_DIR / 'mapAddr2Ids8708820.csv'"
   ]
  },
  {
   "cell_type": "markdown",
   "id": "00b823ac",
   "metadata": {},
   "source": [
    "## Definizone Data Type\n",
    "Sapendo cosa contengono i file csv, possiamo forzare la conversione in determiinati tipi per ridurre l'impatto in memoria dei dataset"
   ]
  },
  {
   "cell_type": "code",
   "execution_count": 42,
   "id": "ac507edf",
   "metadata": {},
   "outputs": [],
   "source": [
    "dtype_transactions = {\n",
    "    \"timestamp\": np.int32,          # prima colonna: secondi (1231469xxx) rientra in int32\n",
    "    \"tx_id\": np.int32,              # seconda colonna: contatore 1…10 572 827\n",
    "    \"block_height\": np.int32,       # terza colonna: 1…214 562\n",
    "    \"prev_tx_id\": np.int32,         # quarta colonna: seguono il tx_id precedente\n",
    "    \"has_witness\": np.uint8,        # quinta colonna 0/1\n",
    "    \"fee\": np.int32,                # sesta colonna: 0…100 000 (int32 più che sufficiente)\n",
    "}\n",
    "\n",
    "\n",
    "dtype_inputs = {\n",
    "    \"input_id\": np.int32,\n",
    "    \"tx_id\": np.int32,\n",
    "    \"prev_output_id\": np.int32,\n",
    "    \"input_index\": np.uint8,\n",
    "}\n",
    "\n",
    "\n",
    "dtype_outputs = {\n",
    "    \"col0\":np.int32,\n",
    "    \"col1\":np.int32,\n",
    "    \"col2\":np.int8,\n",
    "    \"col3\":np.int32,\n",
    "    \"col4\":np.int64,\n",
    "    \"col5\":\"uint8\"\n",
    "}\n",
    "\n",
    "dtype_mapping = {\n",
    "    \"address\": \"category\",   # stringhe ripetute → category riduce drasticamente\n",
    "    \"address_id\": \"Int32\",   # valori 0–8 708 820 entrano in 32 bit\n",
    "}\n",
    "\n",
    "columns_transactions = [\n",
    "    \"timestamp\", \"tx_id\", \"block_height\",\n",
    "     \"has_witness\", \"fee\"\n",
    "]"
   ]
  },
  {
   "cell_type": "markdown",
   "id": "dd1a421b",
   "metadata": {},
   "source": [
    "## Caricamento dei Dataset"
   ]
  },
  {
   "cell_type": "code",
   "execution_count": 43,
   "id": "3813f50b",
   "metadata": {},
   "outputs": [],
   "source": [
    "transactions_csv = DATA_DIR / 'transactions.csv'\n",
    "inputs_csv       = DATA_DIR / 'inputs.csv'\n",
    "outputs_csv      = DATA_DIR / 'outputs.csv'\n",
    "mapping_csv      = DATA_DIR / 'mapAddr2Ids8708820.csv'\n",
    "\n",
    "transactions = pd.read_csv(transactions_csv,header=None,names=columns_transactions,dtype=dtype_transactions)\n",
    "inputs_df    = pd.read_csv(inputs_csv,dtype=dtype_inputs)\n",
    "outputs_df   = pd.read_csv(outputs_csv,dtype=dtype_outputs)\n",
    "mapping_df   = pd.read_csv(mapping_csv,dtype=dtype_mapping)"
   ]
  },
  {
   "cell_type": "markdown",
   "id": "6a296260",
   "metadata": {},
   "source": [
    "## 2) Recupero informazioni da WalletExplorer\n"
   ]
  },
  {
   "cell_type": "markdown",
   "id": "f65fa730",
   "metadata": {},
   "source": [
    "### Definizione Funzioni Helper per Scraping"
   ]
  },
  {
   "cell_type": "code",
   "execution_count": null,
   "id": "7b2a5b37",
   "metadata": {},
   "outputs": [],
   "source": [
    "\n",
    "#placeholder\n",
    "wallet_explorer_url = \"https://www.walletexplorer.com/\"\n",
    "\n",
    "headers = {\n",
    "    \"User-Agent\": (\n",
    "        \"Mozilla/5.0 (Windows NT 10.0; Win64; x64) \"\n",
    "        \"AppleWebKit/537.36 (KHTML, like Gecko) \"\n",
    "        \"Chrome/127.0.0.1 Safari/537.36\"\n",
    "    ),\n",
    "    \"Accept-Language\": \"en-US,en;q=0.9\",\n",
    "    \"Accept-Encoding\": \"gzip, deflate, br\",\n",
    "    \"Referer\": \"https://www.imdb.com/\",\n",
    "}"
   ]
  },
  {
   "cell_type": "code",
   "execution_count": null,
   "id": "2e7f1172",
   "metadata": {},
   "outputs": [],
   "source": [
    "def format_transactions(transactions):\n",
    "    page_transactions = []\n",
    "    for trans in transactions:\n",
    "        timestamp = trans.find('td',class_=\"date\").get_text()\n",
    "        balance = trans.find('td',class_=\"amount\").get_text()\n",
    "        txid = trans.find('td',class_=\"txid\").find('a')['href']\n",
    "        match = re.search(r\"/txid/([0-9a-f]+)\", txid)\n",
    "        if match:\n",
    "            txid = match.group(1)\n",
    "            \n",
    "        amount_diff = trans.find('td',class_=\"amount diff\")\n",
    "        page_transactions.append({\n",
    "            'timestamp':timestamp,\n",
    "            'balance':balance,\n",
    "            'txid':txid,\n",
    "            'amount diff':amount_diff\n",
    "        })\n",
    "    return page_transactions\n",
    "\n",
    "def get_class_transactions(soup,class_):\n",
    "    transactions = soup.find_all('tr',class_=class_)\n",
    "    class_trans = format_transactions(transactions)\n",
    "    # print(f'found {len(class_trans)} {class_} transactions')\n",
    "    return class_trans\n",
    "\n",
    "def get_page_transactions(url):\n",
    "    res = requests.get(f'{url}',headers=headers)\n",
    "    soup = BeautifulSoup(res.text,\"html.parser\")\n",
    "    global_trans = get_class_transactions(soup,'sent') + get_class_transactions(soup,'received')\n",
    "\n",
    "    return global_trans\n"
   ]
  },
  {
   "cell_type": "markdown",
   "id": "bdfdfb96",
   "metadata": {},
   "source": [
    "### Definizione Funzione per Scraping"
   ]
  },
  {
   "cell_type": "code",
   "execution_count": null,
   "id": "9f94c360",
   "metadata": {},
   "outputs": [],
   "source": [
    "def next_page(driver):\n",
    "    try:\n",
    "        #cerco il link alla prossima pagina\n",
    "        el = driver.find_element(By.XPATH, '//div[@class=\"paging\"]//a[contains(., \"Next\")]')\n",
    "        url = el.get_attribute(\"href\")\n",
    "        el.click()\n",
    "        return url\n",
    "    except:\n",
    "        print(\"fondo\")\n",
    "        return None\n",
    "\n",
    "def scrape_step(driver,url):\n",
    "    #recupero le entries\n",
    "    page_entries = get_page_transactions(url)\n",
    "    #vado alla prossima pagina\n",
    "    url = next_page(driver)\n",
    "    return [url,page_entries]\n",
    "\n",
    "def scrape_wallet_explorer(wallet_name):\n",
    "    driver = webdriver.Chrome()\n",
    "    driver.get(wallet_explorer_url)\n",
    "    \n",
    "    #ricerca del wallet\n",
    "    driver.find_element(By.NAME,'q').send_keys(wallet_name)\n",
    "    driver.find_element(By.TAG_NAME,'form').submit()\n",
    "\n",
    "    url = driver.current_url\n",
    "    i = 0\n",
    "    all_entries = []\n",
    "    while True:\n",
    "        #recupero di tutte le transazioni della pagina\n",
    "        url,page_entries = scrape_step(driver,url)\n",
    "        all_entries.extend(page_entries)\n",
    "        if url == None:\n",
    "            break;\n",
    "    driver.close()\n",
    "    return all_entries\n",
    "\n",
    "#https://www.walletexplorer.com/txid/d71d3b18df328681c4e0e4ed215a19820c7ecff956e1b6961eec10b7b3417917\n"
   ]
  },
  {
   "cell_type": "code",
   "execution_count": 31,
   "id": "32053489",
   "metadata": {},
   "outputs": [
    {
     "name": "stdout",
     "output_type": "stream",
     "text": [
      "fondo\n"
     ]
    }
   ],
   "source": [
    "deepbit_transaction = scrape_wallet_explorer('BW')\n",
    "\n",
    "#1.2296645641326904\n",
    "#0.6821258068084717\n",
    "#BW.com"
   ]
  },
  {
   "cell_type": "code",
   "execution_count": 44,
   "id": "064686b2",
   "metadata": {},
   "outputs": [
    {
     "data": {
      "text/html": [
       "<div>\n",
       "<style scoped>\n",
       "    .dataframe tbody tr th:only-of-type {\n",
       "        vertical-align: middle;\n",
       "    }\n",
       "\n",
       "    .dataframe tbody tr th {\n",
       "        vertical-align: top;\n",
       "    }\n",
       "\n",
       "    .dataframe thead th {\n",
       "        text-align: right;\n",
       "    }\n",
       "</style>\n",
       "<table border=\"1\" class=\"dataframe\">\n",
       "  <thead>\n",
       "    <tr style=\"text-align: right;\">\n",
       "      <th></th>\n",
       "      <th>timestamp</th>\n",
       "      <th>balance</th>\n",
       "      <th>txid</th>\n",
       "      <th>amount diff</th>\n",
       "    </tr>\n",
       "  </thead>\n",
       "  <tbody>\n",
       "    <tr>\n",
       "      <th>0</th>\n",
       "      <td>2016-02-07 10:11:34</td>\n",
       "      <td>-400.</td>\n",
       "      <td>b71b5fd9224103b25d6f6ad2b28aae703312db9b57a113...</td>\n",
       "      <td>[-400.         ]</td>\n",
       "    </tr>\n",
       "    <tr>\n",
       "      <th>1</th>\n",
       "      <td>2016-02-06 17:18:27</td>\n",
       "      <td>-400.</td>\n",
       "      <td>8122f2f88694d6f71330eb57df02cadbf731b412554a03...</td>\n",
       "      <td>[-400.         ]</td>\n",
       "    </tr>\n",
       "    <tr>\n",
       "      <th>2</th>\n",
       "      <td>2016-02-05 17:16:39</td>\n",
       "      <td>-400.</td>\n",
       "      <td>47fb721c713631ff77462ff1b4e7ca4ee487bb7bbe7ff1...</td>\n",
       "      <td>[-400.         ]</td>\n",
       "    </tr>\n",
       "    <tr>\n",
       "      <th>3</th>\n",
       "      <td>2016-02-04 18:39:21</td>\n",
       "      <td>-400.</td>\n",
       "      <td>00b9a1326d1d0a1de88c48d654747b4b6baadfd1b501ef...</td>\n",
       "      <td>[-400.         ]</td>\n",
       "    </tr>\n",
       "    <tr>\n",
       "      <th>4</th>\n",
       "      <td>2016-02-04 03:58:15</td>\n",
       "      <td>-400.</td>\n",
       "      <td>0e2d10d8aa01660548e50c5ee7eb51589ab5bd5a2f2f51...</td>\n",
       "      <td>[-400.         ]</td>\n",
       "    </tr>\n",
       "    <tr>\n",
       "      <th>5</th>\n",
       "      <td>2016-02-03 03:02:17</td>\n",
       "      <td>-400.</td>\n",
       "      <td>7443375439f6e2eff47e9944d7579a3f7faecd0bc01727...</td>\n",
       "      <td>[-400.         ]</td>\n",
       "    </tr>\n",
       "    <tr>\n",
       "      <th>6</th>\n",
       "      <td>2016-02-07 20:41:24</td>\n",
       "      <td>+25.06844012</td>\n",
       "      <td>c0996b24787df4bc443e2ef5c0c98a2206e2c8c7496437...</td>\n",
       "      <td>[+25.06844012 ]</td>\n",
       "    </tr>\n",
       "    <tr>\n",
       "      <th>7</th>\n",
       "      <td>2016-02-07 19:56:25</td>\n",
       "      <td>+25.08928942</td>\n",
       "      <td>983eb1592501684c2e07d0cf28f067ec9c592f6cf6cc91...</td>\n",
       "      <td>[+25.08928942 ]</td>\n",
       "    </tr>\n",
       "    <tr>\n",
       "      <th>8</th>\n",
       "      <td>2016-02-07 19:26:02</td>\n",
       "      <td>+25.23670351</td>\n",
       "      <td>e8f9eae08cbe6a299991613fb98eb82b42262cac851ebd...</td>\n",
       "      <td>[+25.23670351 ]</td>\n",
       "    </tr>\n",
       "    <tr>\n",
       "      <th>9</th>\n",
       "      <td>2016-02-07 18:29:25</td>\n",
       "      <td>+25.29877219</td>\n",
       "      <td>b0260cdadf823637b80cf8258869f19a3b9e4ff7057480...</td>\n",
       "      <td>[+25.29877219 ]</td>\n",
       "    </tr>\n",
       "  </tbody>\n",
       "</table>\n",
       "</div>"
      ],
      "text/plain": [
       "             timestamp         balance  \\\n",
       "0  2016-02-07 10:11:34  -400.            \n",
       "1  2016-02-06 17:18:27  -400.            \n",
       "2  2016-02-05 17:16:39  -400.            \n",
       "3  2016-02-04 18:39:21  -400.            \n",
       "4  2016-02-04 03:58:15  -400.            \n",
       "5  2016-02-03 03:02:17  -400.            \n",
       "6  2016-02-07 20:41:24   +25.06844012    \n",
       "7  2016-02-07 19:56:25   +25.08928942    \n",
       "8  2016-02-07 19:26:02   +25.23670351    \n",
       "9  2016-02-07 18:29:25   +25.29877219    \n",
       "\n",
       "                                                txid       amount diff  \n",
       "0  b71b5fd9224103b25d6f6ad2b28aae703312db9b57a113...  [-400.         ]  \n",
       "1  8122f2f88694d6f71330eb57df02cadbf731b412554a03...  [-400.         ]  \n",
       "2  47fb721c713631ff77462ff1b4e7ca4ee487bb7bbe7ff1...  [-400.         ]  \n",
       "3  00b9a1326d1d0a1de88c48d654747b4b6baadfd1b501ef...  [-400.         ]  \n",
       "4  0e2d10d8aa01660548e50c5ee7eb51589ab5bd5a2f2f51...  [-400.         ]  \n",
       "5  7443375439f6e2eff47e9944d7579a3f7faecd0bc01727...  [-400.         ]  \n",
       "6  c0996b24787df4bc443e2ef5c0c98a2206e2c8c7496437...   [+25.06844012 ]  \n",
       "7  983eb1592501684c2e07d0cf28f067ec9c592f6cf6cc91...   [+25.08928942 ]  \n",
       "8  e8f9eae08cbe6a299991613fb98eb82b42262cac851ebd...   [+25.23670351 ]  \n",
       "9  b0260cdadf823637b80cf8258869f19a3b9e4ff7057480...   [+25.29877219 ]  "
      ]
     },
     "metadata": {},
     "output_type": "display_data"
    },
    {
     "data": {
      "text/html": [
       "<div>\n",
       "<style scoped>\n",
       "    .dataframe tbody tr th:only-of-type {\n",
       "        vertical-align: middle;\n",
       "    }\n",
       "\n",
       "    .dataframe tbody tr th {\n",
       "        vertical-align: top;\n",
       "    }\n",
       "\n",
       "    .dataframe thead th {\n",
       "        text-align: right;\n",
       "    }\n",
       "</style>\n",
       "<table border=\"1\" class=\"dataframe\">\n",
       "  <thead>\n",
       "    <tr style=\"text-align: right;\">\n",
       "      <th></th>\n",
       "      <th>timestamp</th>\n",
       "      <th>tx_id</th>\n",
       "      <th>block_height</th>\n",
       "      <th>has_witness</th>\n",
       "      <th>fee</th>\n",
       "    </tr>\n",
       "  </thead>\n",
       "  <tbody>\n",
       "    <tr>\n",
       "      <th>0</th>\n",
       "      <td>1231006505</td>\n",
       "      <td>0</td>\n",
       "      <td>0</td>\n",
       "      <td>1</td>\n",
       "      <td>0</td>\n",
       "    </tr>\n",
       "  </tbody>\n",
       "</table>\n",
       "</div>"
      ],
      "text/plain": [
       "    timestamp  tx_id  block_height  has_witness  fee\n",
       "0  1231006505      0             0            1    0"
      ]
     },
     "execution_count": 44,
     "metadata": {},
     "output_type": "execute_result"
    }
   ],
   "source": [
    "deepbit_df = pd.DataFrame(deepbit_transaction)\n",
    "display(deepbit_df.head(10))\n",
    "transactions.head(1)"
   ]
  },
  {
   "cell_type": "code",
   "execution_count": 32,
   "id": "34fd801e",
   "metadata": {},
   "outputs": [
    {
     "name": "stdout",
     "output_type": "stream",
     "text": [
      "b71b5fd9224103b25d6f6ad2b28aae703312db9b57a1136f225a05b907848e13\n",
      "64\n",
      "5100\n"
     ]
    }
   ],
   "source": [
    "print(deepbit_transaction[0]['txid'])\n",
    "print(len(deepbit_transaction[0]['txid']))\n",
    "#100 entries per pagina\n",
    "print(len(deepbit_transaction))"
   ]
  }
 ],
 "metadata": {
  "kernelspec": {
   "display_name": "venv (3.13.2)",
   "language": "python",
   "name": "python3"
  },
  "language_info": {
   "codemirror_mode": {
    "name": "ipython",
    "version": 3
   },
   "file_extension": ".py",
   "mimetype": "text/x-python",
   "name": "python",
   "nbconvert_exporter": "python",
   "pygments_lexer": "ipython3",
   "version": "3.13.2"
  }
 },
 "nbformat": 4,
 "nbformat_minor": 5
}
