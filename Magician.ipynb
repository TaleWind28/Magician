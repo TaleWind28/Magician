{
 "cells": [
  {
   "cell_type": "markdown",
   "id": "9f8a28be",
   "metadata": {},
   "source": [
    "<center>\n",
    "\n",
    "## MAGICIAN: Mining and gAmblinG servIces sCrapIng and ANalysis\n",
    "\n",
    "Matteo Martini 636694"
   ]
  },
  {
   "cell_type": "code",
   "execution_count": 1,
   "id": "970175ce",
   "metadata": {},
   "outputs": [],
   "source": [
    "mining_pool_url = \"https://en.bitcoin.it/wiki/DeepBit9\"\n",
    "\n",
    "\n",
    "#Individuare nel DataSet tutte le transazioni relative a Deepbit.net,ovvero le transazioni che presentano almeno un indirizzo di input o di output appartenente a Deepbit_addrs.\n",
    "#servizio scommesse = DiceOnCrack"
   ]
  },
  {
   "cell_type": "markdown",
   "id": "e6d9815d",
   "metadata": {},
   "source": [
    "## Setup Ambiente"
   ]
  },
  {
   "cell_type": "code",
   "execution_count": 2,
   "id": "5ad92ae2",
   "metadata": {},
   "outputs": [
    {
     "name": "stdout",
     "output_type": "stream",
     "text": [
      "Datasets\n",
      "data_parquet\n",
      "Environment ready.\n"
     ]
    }
   ],
   "source": [
    "# Librerie concesse\n",
    "import pandas as pd\n",
    "\n",
    "# Per scraping (scegline uno o entrambi, in base alle esigenze delle pagine)\n",
    "from bs4 import BeautifulSoup\n",
    "from selenium import webdriver\n",
    "from selenium.webdriver.common.by import By\n",
    "from selenium.webdriver.chrome.options import Options\n",
    "\n",
    "# Per formati efficienti (PyArrow)\n",
    "import pyarrow as pa\n",
    "import pyarrow.parquet as pq\n",
    "\n",
    "# Utility\n",
    "from pathlib import Path\n",
    "from datetime import datetime\n",
    "\n",
    "import numpy as np\n",
    "\n",
    "\n",
    "from selenium.webdriver.support.select import Select\n",
    "from selenium.webdriver.common.keys import Keys\n",
    "import time\n",
    "import requests\n",
    "import re\n",
    "from bs4 import BeautifulSoup\n",
    "\n",
    "# Percorsi (aggiorna con il tuo percorso locale)\n",
    "DATA_DIR = Path('./Datasets')   # metti qui i CSV scaricati\n",
    "\n",
    "PARQUET_DIR = Path('./data_parquet')\n",
    "PARQUET_DIR.mkdir(parents=True, exist_ok=True)\n",
    "print(DATA_DIR)\n",
    "print(PARQUET_DIR)\n",
    "print('Environment ready.')"
   ]
  },
  {
   "cell_type": "markdown",
   "id": "53f21edc",
   "metadata": {},
   "source": [
    "## 1) Costruzione dei Dataframe dal Dataset"
   ]
  },
  {
   "cell_type": "markdown",
   "id": "37f40134",
   "metadata": {},
   "source": [
    "## Directory Datasets\n"
   ]
  },
  {
   "cell_type": "code",
   "execution_count": 3,
   "id": "b9485b45",
   "metadata": {},
   "outputs": [],
   "source": [
    "transactions_csv = DATA_DIR / 'transactions.csv'\n",
    "inputs_csv       = DATA_DIR / 'inputs.csv'\n",
    "outputs_csv      = DATA_DIR / 'outputs.csv'\n",
    "mapping_csv      = DATA_DIR / 'mapAddr2Ids8708820.csv'"
   ]
  },
  {
   "cell_type": "markdown",
   "id": "00b823ac",
   "metadata": {},
   "source": [
    "## Definizone Data Type\n",
    "Sapendo cosa contengono i file csv, possiamo forzare la conversione in determiinati tipi per ridurre l'impatto in memoria dei dataset"
   ]
  },
  {
   "cell_type": "code",
   "execution_count": 42,
   "id": "ac507edf",
   "metadata": {},
   "outputs": [],
   "source": [
    "dtype_transactions = {\n",
    "    \"timestamp\": np.int32,          # prima colonna: secondi (1231469xxx) rientra in int32\n",
    "    \"tx_id\": np.int32,              # seconda colonna: contatore 1…10 572 827\n",
    "    \"block_height\": np.int32,       # terza colonna: 1…214 562\n",
    "    \"prev_tx_id\": np.int32,         # quarta colonna: seguono il tx_id precedente\n",
    "    \"has_witness\": np.uint8,        # quinta colonna 0/1\n",
    "    \"fee\": np.int32,                # sesta colonna: 0…100 000 (int32 più che sufficiente)\n",
    "}\n",
    "\n",
    "\n",
    "dtype_inputs = {\n",
    "    \"input_id\": np.int32,\n",
    "    \"tx_id\": np.int32,\n",
    "    \"prev_output_id\": np.int32,\n",
    "    \"input_index\": np.uint8,\n",
    "}\n",
    "\n",
    "\n",
    "dtype_outputs = {\n",
    "    \"col0\":np.int32,\n",
    "    \"col1\":np.int32,\n",
    "    \"col2\":np.int8,\n",
    "    \"col3\":np.int32,\n",
    "    \"col4\":np.int64,\n",
    "    \"col5\":\"uint8\"\n",
    "}\n",
    "\n",
    "dtype_mapping = {\n",
    "    \"address\": \"category\",   # stringhe ripetute → category riduce drasticamente\n",
    "    \"address_id\": \"Int32\",   # valori 0–8 708 820 entrano in 32 bit\n",
    "}\n",
    "\n",
    "columns_transactions = [\n",
    "    \"timestamp\", \"tx_id\", \"block_height\",\n",
    "     \"has_witness\", \"fee\"\n",
    "]"
   ]
  },
  {
   "cell_type": "markdown",
   "id": "dd1a421b",
   "metadata": {},
   "source": [
    "## Caricamento dei Dataset"
   ]
  },
  {
   "cell_type": "code",
   "execution_count": 43,
   "id": "3813f50b",
   "metadata": {},
   "outputs": [],
   "source": [
    "transactions_csv = DATA_DIR / 'transactions.csv'\n",
    "inputs_csv       = DATA_DIR / 'inputs.csv'\n",
    "outputs_csv      = DATA_DIR / 'outputs.csv'\n",
    "mapping_csv      = DATA_DIR / 'mapAddr2Ids8708820.csv'\n",
    "\n",
    "transactions = pd.read_csv(transactions_csv,header=None,names=columns_transactions,dtype=dtype_transactions)\n",
    "inputs_df    = pd.read_csv(inputs_csv,dtype=dtype_inputs)\n",
    "outputs_df   = pd.read_csv(outputs_csv,dtype=dtype_outputs)\n",
    "mapping_df   = pd.read_csv(mapping_csv,dtype=dtype_mapping)"
   ]
  },
  {
   "cell_type": "markdown",
   "id": "6a296260",
   "metadata": {},
   "source": [
    "## 2) Recupero informazioni da WalletExplorer\n"
   ]
  },
  {
   "cell_type": "markdown",
   "id": "f65fa730",
   "metadata": {},
   "source": [
    "### Definizione Funzioni Helper per Scraping"
   ]
  },
  {
   "cell_type": "code",
   "execution_count": null,
   "id": "7b2a5b37",
   "metadata": {},
   "outputs": [],
   "source": [
    "\n",
    "#placeholder\n",
    "wallet_explorer_url = \"https://www.walletexplorer.com/\"\n",
    "\n",
    "headers = {\n",
    "    \"User-Agent\": (\n",
    "        \"Mozilla/5.0 (Windows NT 10.0; Win64; x64) \"\n",
    "        \"AppleWebKit/537.36 (KHTML, like Gecko) \"\n",
    "        \"Chrome/127.0.0.1 Safari/537.36\"\n",
    "    ),\n",
    "    \"Accept-Language\": \"en-US,en;q=0.9\",\n",
    "    \"Accept-Encoding\": \"gzip, deflate, br\",\n",
    "    \"Referer\": \"https://www.imdb.com/\",\n",
    "}"
   ]
  },
  {
   "cell_type": "code",
   "execution_count": 108,
   "id": "2e7f1172",
   "metadata": {},
   "outputs": [],
   "source": [
    "def get_transactions_link(soup,class_):\n",
    "    transactions = soup.find_all('tr',class_=class_)\n",
    "    page_links = []\n",
    "    for trans in transactions:\n",
    "        txid = trans.find('td',class_=\"txid\").find('a')['href']\n",
    "        page_links.append(txid)\n",
    "    return page_links\n",
    "\n",
    "def get_page_transactions(url):\n",
    "    res = requests.get(f'{url}',headers=headers)\n",
    "    soup = BeautifulSoup(res.text,\"html.parser\")\n",
    "    global_trans = get_transactions_link(soup,'sent') + get_transactions_link(soup,'received')\n",
    "    return global_trans\n"
   ]
  },
  {
   "cell_type": "markdown",
   "id": "bdfdfb96",
   "metadata": {},
   "source": [
    "### Definizione Funzione per Scraping"
   ]
  },
  {
   "cell_type": "code",
   "execution_count": 109,
   "id": "9f94c360",
   "metadata": {},
   "outputs": [],
   "source": [
    "def next_page(driver):\n",
    "    #cerco il link alla prossima pagina\n",
    "    for _ in (\"Next\",\"Last\"):\n",
    "        url = find_next_link(driver,_)\n",
    "        if url:return url\n",
    "    return None\n",
    "        \n",
    "def find_next_link(driver,element):\n",
    "    try:\n",
    "        el = driver.find_element(By.XPATH, f'//div[@class=\"paging\"]//a[contains(., \"{element}\")]')\n",
    "        url = el.get_attribute(\"href\")\n",
    "        el.click()\n",
    "        return url\n",
    "    except:\n",
    "        return None\n",
    "\n",
    "def scrape_step(driver,url):\n",
    "    #recupero le entries\n",
    "    page_entries = get_page_transactions(url)\n",
    "    #vado alla prossima pagina\n",
    "    url = next_page(driver)\n",
    "    return [url,page_entries]\n",
    "\n",
    "def scrape_wallet_explorer(wallet_name):\n",
    "    driver = webdriver.Chrome()\n",
    "    driver.get(wallet_explorer_url)\n",
    "    \n",
    "    #ricerca del wallet\n",
    "    driver.find_element(By.NAME,'q').send_keys(wallet_name)\n",
    "    driver.find_element(By.TAG_NAME,'form').submit()\n",
    "\n",
    "    url = driver.current_url\n",
    "    i = 0\n",
    "    all_entries = []\n",
    "    while True:\n",
    "        #recupero di tutte le transazioni della pagina\n",
    "        url,page_entries = scrape_step(driver,url)\n",
    "        all_entries.extend(page_entries)\n",
    "        if url == None:\n",
    "            break;\n",
    "    driver.close()\n",
    "    return all_entries\n",
    "\n",
    "#https://www.walletexplorer.com/txid/d71d3b18df328681c4e0e4ed215a19820c7ecff956e1b6961eec10b7b3417917\n"
   ]
  },
  {
   "cell_type": "code",
   "execution_count": 114,
   "id": "c3f75d8a",
   "metadata": {},
   "outputs": [],
   "source": [
    "def get_info_from_transaction_table(trans_table_link):\n",
    "    res = requests.get(f'{\"https://www.walletexplorer.com\"}{trans_table_link}',headers=headers)\n",
    "    soup = BeautifulSoup(res.text,\"html.parser\")\n",
    "    table = soup.find('table',class_=\"info\").find_all('td')\n",
    "    all_txt = []\n",
    "    for element in table:\n",
    "        txt = element.get_text()\n",
    "        all_txt.append(txt)\n",
    "    \n",
    "    return {\n",
    "        \"timestamp\":all_txt[2],\n",
    "        \"blockId\":int(re.search(r'\\d+', all_txt[1]).group()),\n",
    "        \"txId\":all_txt[0],\n",
    "        \"isCoinbase\":0,\n",
    "        \"fee\":float(re.search(r'\\d+(?:\\.\\d+)?', all_txt[4]).group())\n",
    "    }"
   ]
  },
  {
   "cell_type": "code",
   "execution_count": 110,
   "id": "32053489",
   "metadata": {},
   "outputs": [],
   "source": [
    "deepbit_transaction = scrape_wallet_explorer('BW')\n",
    "#1.2296645641326904\n",
    "#0.6821258068084717\n",
    "#BW.com"
   ]
  },
  {
   "cell_type": "code",
   "execution_count": 116,
   "id": "cbec9af0",
   "metadata": {},
   "outputs": [
    {
     "name": "stdout",
     "output_type": "stream",
     "text": [
      "0.0001\n"
     ]
    }
   ],
   "source": [
    "# print(deepbit_transaction[len(deepbit_transaction)-1])\n",
    "info = get_info_from_transaction_table(deepbit_transaction[len(deepbit_transaction)-1])\n",
    "print(f'{info[\"fee\"]}')"
   ]
  },
  {
   "cell_type": "code",
   "execution_count": 96,
   "id": "064686b2",
   "metadata": {},
   "outputs": [],
   "source": [
    "# deepbit_df = pd.DataFrame(deepbit_transaction)"
   ]
  },
  {
   "cell_type": "code",
   "execution_count": null,
   "id": "34fd801e",
   "metadata": {},
   "outputs": [
    {
     "name": "stdout",
     "output_type": "stream",
     "text": [
      "5118\n"
     ]
    }
   ],
   "source": [
    "# print(deepbit_transaction[0]['txid'])\n",
    "# print(len(deepbit_transaction[0]['txid']))\n",
    "# #100 entries per pagina\n",
    "print(len(deepbit_transaction))"
   ]
  }
 ],
 "metadata": {
  "kernelspec": {
   "display_name": "venv (3.13.2)",
   "language": "python",
   "name": "python3"
  },
  "language_info": {
   "codemirror_mode": {
    "name": "ipython",
    "version": 3
   },
   "file_extension": ".py",
   "mimetype": "text/x-python",
   "name": "python",
   "nbconvert_exporter": "python",
   "pygments_lexer": "ipython3",
   "version": "3.13.2"
  }
 },
 "nbformat": 4,
 "nbformat_minor": 5
}
